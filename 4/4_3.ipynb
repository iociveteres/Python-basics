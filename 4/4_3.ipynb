{
 "cells": [
  {
   "cell_type": "code",
   "execution_count": 29,
   "metadata": {},
   "outputs": [
    {
     "name": "stdout",
     "output_type": "stream",
     "text": [
      "0 0 0 0 0 0 0 0 0 1 1 1 1 0 0 2 0 3 0 0\n"
     ]
    }
   ],
   "source": [
    "words = str(input()).split(' ')\n",
    "word_count = []\n",
    "for i, word in enumerate(words):\n",
    "    word_count.append((words[:i]).count(words[i]))\n",
    "print(*word_count)"
   ]
  },
  {
   "cell_type": "code",
   "execution_count": 3,
   "metadata": {},
   "outputs": [
    {
     "name": "stdout",
     "output_type": "stream",
     "text": [
      "0 0 1 0\n",
      "0 1 * 1\n",
      "0 1 1 0\n",
      "1 * 1 0\n"
     ]
    }
   ],
   "source": [
    "n, m = map(int, input().split())\n",
    "mines_count = int(input())\n",
    "mines = []\n",
    "field = [[0 for j in range(m)] for i in range(n)]\n",
    "for i in range(mines_count):\n",
    "    x, y = map(int, input().split())\n",
    "    mines.append((x - 1, y - 1))\n",
    "\n",
    "neighbors = lambda x, y : [(x2, y2) for x2 in range(x-1, x+2)\n",
    "                               for y2 in range(y-1, y+2)\n",
    "                               if (-1 < x <= (n - 1) and\n",
    "                                   -1 < y <= (m - 1) and\n",
    "                                   (x != x2 or y != y2) and\n",
    "                                   (0 <= x2 <= (n - 1)) and\n",
    "                                   (0 <= y2 <= (m - 1)))]\n",
    "\n",
    "for i in range(n):\n",
    "    for j in range(m):\n",
    "        if (i, j) in mines:\n",
    "            field[i][j] = '*'\n",
    "            a = neighbors(i, j)\n",
    "            for x, y in a:\n",
    "                try:\n",
    "                    int_value = int(field[x][y])\n",
    "                except ValueError:\n",
    "                    pass\n",
    "                else:\n",
    "                    field[x][y] += 1\n",
    "            \n",
    "for i in field:\n",
    "    print(*i)\n"
   ]
  }
 ],
 "metadata": {
  "kernelspec": {
   "display_name": "Python 3.9.12 ('base')",
   "language": "python",
   "name": "python3"
  },
  "language_info": {
   "codemirror_mode": {
    "name": "ipython",
    "version": 3
   },
   "file_extension": ".py",
   "mimetype": "text/x-python",
   "name": "python",
   "nbconvert_exporter": "python",
   "pygments_lexer": "ipython3",
   "version": "3.9.12"
  },
  "orig_nbformat": 4,
  "vscode": {
   "interpreter": {
    "hash": "4adb2b3a86768c0ab9c68d017220c97866613aeca6db1d74ccc533002803c558"
   }
  }
 },
 "nbformat": 4,
 "nbformat_minor": 2
}
