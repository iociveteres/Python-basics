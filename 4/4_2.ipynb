{
 "cells": [
  {
   "cell_type": "code",
   "execution_count": 6,
   "metadata": {},
   "outputs": [
    {
     "name": "stdout",
     "output_type": "stream",
     "text": [
      "0\n"
     ]
    }
   ],
   "source": [
    "l_1 = set(map(int, input().split()))\n",
    "l_2 = set(map(int, input().split()))\n",
    "common = len([w for w in l_2 if w in l_1])\n",
    "print(common)"
   ]
  },
  {
   "cell_type": "code",
   "execution_count": 16,
   "metadata": {},
   "outputs": [
    {
     "name": "stdout",
     "output_type": "stream",
     "text": [
      "0 2 2 2 2\n",
      "1 0 2 2 2\n",
      "1 1 0 2 2\n",
      "1 1 1 0 2\n",
      "1 1 1 1 0\n"
     ]
    }
   ],
   "source": [
    "s = int(input())\n",
    "m = [[1 if col < row else 0 if col == row else 2 for col in range(s)] for row in range(s)]\n",
    "for i in m:\n",
    "    print(*i)"
   ]
  },
  {
   "cell_type": "code",
   "execution_count": 4,
   "metadata": {},
   "outputs": [
    {
     "name": "stdout",
     "output_type": "stream",
     "text": [
      "3\n"
     ]
    }
   ],
   "source": [
    "members_count, seq_length = map(int, input().split())\n",
    "results = []\n",
    "for member_result in range(members_count):\n",
    "    results.append(set(map(int, input().split())))\n",
    "best_result = max(max(x) for x in results)\n",
    "best_members = 0\n",
    "for member_result in results:\n",
    "    if best_result in member_result:\n",
    "        best_members += 1\n",
    "print(best_members)"
   ]
  }
 ],
 "metadata": {
  "kernelspec": {
   "display_name": "Python 3.9.12 ('base')",
   "language": "python",
   "name": "python3"
  },
  "language_info": {
   "codemirror_mode": {
    "name": "ipython",
    "version": 3
   },
   "file_extension": ".py",
   "mimetype": "text/x-python",
   "name": "python",
   "nbconvert_exporter": "python",
   "pygments_lexer": "ipython3",
   "version": "3.9.12"
  },
  "orig_nbformat": 4,
  "vscode": {
   "interpreter": {
    "hash": "4adb2b3a86768c0ab9c68d017220c97866613aeca6db1d74ccc533002803c558"
   }
  }
 },
 "nbformat": 4,
 "nbformat_minor": 2
}
