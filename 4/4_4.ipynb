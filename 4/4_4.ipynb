{
 "cells": [
  {
   "cell_type": "code",
   "execution_count": 4,
   "metadata": {},
   "outputs": [
    {
     "name": "stdout",
     "output_type": "stream",
     "text": [
      "3\n"
     ]
    }
   ],
   "source": [
    "string = str(input())\n",
    "words = string.split()\n",
    "most_often_word = None\n",
    "most_often_word_count = 0\n",
    "for word in words:\n",
    "    cur_count = words.count(word)\n",
    "    if cur_count > most_often_word_count:\n",
    "        most_often_word = word\n",
    "        most_often_word_count = cur_count\n",
    "    if cur_count == most_often_word_count and word < most_often_word:\n",
    "        most_often_word = word \n",
    "\n",
    "print(most_often_word)"
   ]
  },
  {
   "cell_type": "code",
   "execution_count": 8,
   "metadata": {},
   "outputs": [
    {
     "name": "stdout",
     "output_type": "stream",
     "text": [
      "4 3\n",
      "9 5 1\n",
      "10 6 2\n",
      "11 7 3\n",
      "12 8 4\n"
     ]
    }
   ],
   "source": [
    "n, m = map(int, input().split())\n",
    "array = []\n",
    "for i in range(n):\n",
    "    array.append(list(map(int, input().split())))\n",
    "\n",
    "_array = [[array[j][i] for j in range(len(array)-1, -1, -1)] for i in range(len(array[0]))]\n",
    "\n",
    "print(m, n)\n",
    "for i in _array:\n",
    "    print(*i)"
   ]
  }
 ],
 "metadata": {
  "kernelspec": {
   "display_name": "Python 3.9.12 ('base')",
   "language": "python",
   "name": "python3"
  },
  "language_info": {
   "codemirror_mode": {
    "name": "ipython",
    "version": 3
   },
   "file_extension": ".py",
   "mimetype": "text/x-python",
   "name": "python",
   "nbconvert_exporter": "python",
   "pygments_lexer": "ipython3",
   "version": "3.9.12"
  },
  "orig_nbformat": 4,
  "vscode": {
   "interpreter": {
    "hash": "4adb2b3a86768c0ab9c68d017220c97866613aeca6db1d74ccc533002803c558"
   }
  }
 },
 "nbformat": 4,
 "nbformat_minor": 2
}
