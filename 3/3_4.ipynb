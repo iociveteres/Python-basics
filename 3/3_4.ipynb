{
 "cells": [
  {
   "cell_type": "code",
   "execution_count": 1,
   "metadata": {},
   "outputs": [],
   "source": [
    "l = list(map(int, input().split()))\n",
    "l = [e for e in l if e > 0]\n",
    "print(min(l))"
   ]
  },
  {
   "cell_type": "code",
   "execution_count": null,
   "metadata": {},
   "outputs": [],
   "source": [
    "n = int(input())\n",
    "l = list(map(int, input().split()))\n",
    "shift = int(input())\n",
    "\n",
    "a = -shift % len(l)\n",
    "l =  l[-a:] + l[:-a]\n",
    "print(*l)"
   ]
  },
  {
   "cell_type": "code",
   "execution_count": 7,
   "metadata": {},
   "outputs": [
    {
     "name": "stdout",
     "output_type": "stream",
     "text": [
      "('L', 'Q') ('L', 'Q') ('U', 'Z') ('I', 'D') ('R', 'J') ('M', 'S') ('L', 'K') ('I', 'L') 8\n"
     ]
    }
   ],
   "source": [
    "g_1 = \"WIVYKHBSZLOGOROTIPKLQJWUVXLEZPAGPCDUPUZIDRJTMSHVDUEALKOILER\" #input()\n",
    "g_2 = \"HYAASSTKFMSSTLQENNEIDYDMTTQPJHOYMYFLTCRQTARJHGFILQYENKPRCQHMEUZKQFZTXJFDBIMJJEKWMHFLKZBCUCCKYSGLVZ\" #input()\n",
    "pg_1 = [(g_1[i], g_1[i + 1]) for i in range(len(g_1) - 1)]\n",
    "pg_2 = [(g_2[i], g_2[i + 1]) for i in range(len(g_2) - 1)]\n",
    "sum = 0\n",
    "for a in pg_1:\n",
    "    for b in pg_2:\n",
    "        if a == b:\n",
    "            sum += 1\n",
    "            print(a, end = \" \")\n",
    "print(sum)"
   ]
  }
 ],
 "metadata": {
  "kernelspec": {
   "display_name": "Python 3.9.12 ('base')",
   "language": "python",
   "name": "python3"
  },
  "language_info": {
   "codemirror_mode": {
    "name": "ipython",
    "version": 3
   },
   "file_extension": ".py",
   "mimetype": "text/x-python",
   "name": "python",
   "nbconvert_exporter": "python",
   "pygments_lexer": "ipython3",
   "version": "3.9.12"
  },
  "orig_nbformat": 4,
  "vscode": {
   "interpreter": {
    "hash": "4adb2b3a86768c0ab9c68d017220c97866613aeca6db1d74ccc533002803c558"
   }
  }
 },
 "nbformat": 4,
 "nbformat_minor": 2
}
