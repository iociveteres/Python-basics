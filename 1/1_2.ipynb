{
 "cells": [
  {
   "cell_type": "code",
   "execution_count": 7,
   "metadata": {},
   "outputs": [
    {
     "name": "stdout",
     "output_type": "stream",
     "text": [
      "39\n"
     ]
    }
   ],
   "source": [
    "N = int(input())\n",
    "stops = 0\n",
    "stops += N // 17\n",
    "stops += N // 13\n",
    "stops -= N // (13*17)\n",
    "print(stops)"
   ]
  },
  {
   "cell_type": "code",
   "execution_count": 14,
   "metadata": {},
   "outputs": [
    {
     "name": "stdout",
     "output_type": "stream",
     "text": [
      "735\n"
     ]
    }
   ],
   "source": [
    "a = int(2)\n",
    "b = int(3)\n",
    "n = 765473521\n",
    "n = n // 10 ** a\n",
    "n = n % 10 ** b\n",
    "print(n)"
   ]
  },
  {
   "cell_type": "code",
   "execution_count": 42,
   "metadata": {},
   "outputs": [
    {
     "name": "stdout",
     "output_type": "stream",
     "text": [
      "4 5 -5 -4\n"
     ]
    }
   ],
   "source": [
    "a = 13\n",
    "b = 9\n",
    "print(a % b, -a % b, a % -b, -a % -b)"
   ]
  }
 ],
 "metadata": {
  "kernelspec": {
   "display_name": "Python 3.9.12 ('base')",
   "language": "python",
   "name": "python3"
  },
  "language_info": {
   "codemirror_mode": {
    "name": "ipython",
    "version": 3
   },
   "file_extension": ".py",
   "mimetype": "text/x-python",
   "name": "python",
   "nbconvert_exporter": "python",
   "pygments_lexer": "ipython3",
   "version": "3.9.12"
  },
  "orig_nbformat": 4,
  "vscode": {
   "interpreter": {
    "hash": "4adb2b3a86768c0ab9c68d017220c97866613aeca6db1d74ccc533002803c558"
   }
  }
 },
 "nbformat": 4,
 "nbformat_minor": 2
}
