{
 "cells": [
  {
   "cell_type": "code",
   "execution_count": 7,
   "metadata": {},
   "outputs": [
    {
     "name": "stdout",
     "output_type": "stream",
     "text": [
      "......*......\n",
      ".....***.....\n",
      "....*****....\n",
      "...*******...\n",
      "..*********..\n",
      ".***********.\n",
      "*************\n"
     ]
    }
   ],
   "source": [
    "def spruce(N):\n",
    "    for i in range(1, N + 1):\n",
    "        print('.' * (N - i) + '*' * (2 * i - 1) + '.' * (N - i))\n",
    "\n",
    "spruce(7)"
   ]
  }
 ],
 "metadata": {
  "kernelspec": {
   "display_name": "Python 3.9.12 ('base')",
   "language": "python",
   "name": "python3"
  },
  "language_info": {
   "codemirror_mode": {
    "name": "ipython",
    "version": 3
   },
   "file_extension": ".py",
   "mimetype": "text/x-python",
   "name": "python",
   "nbconvert_exporter": "python",
   "pygments_lexer": "ipython3",
   "version": "3.9.12"
  },
  "orig_nbformat": 4,
  "vscode": {
   "interpreter": {
    "hash": "4adb2b3a86768c0ab9c68d017220c97866613aeca6db1d74ccc533002803c558"
   }
  }
 },
 "nbformat": 4,
 "nbformat_minor": 2
}
