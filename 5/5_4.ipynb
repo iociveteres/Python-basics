{
 "cells": [
  {
   "cell_type": "code",
   "execution_count": 3,
   "metadata": {},
   "outputs": [
    {
     "name": "stdout",
     "output_type": "stream",
     "text": [
      "20\n"
     ]
    }
   ],
   "source": [
    "def gcd(n, m):\n",
    "    while m != 0:\n",
    "        _n = m\n",
    "        m = n % m\n",
    "        n = _n\n",
    "    return n\n",
    "\n",
    "print(gcd(973040, 968500))"
   ]
  }
 ],
 "metadata": {
  "kernelspec": {
   "display_name": "Python 3.9.12 ('base')",
   "language": "python",
   "name": "python3"
  },
  "language_info": {
   "codemirror_mode": {
    "name": "ipython",
    "version": 3
   },
   "file_extension": ".py",
   "mimetype": "text/x-python",
   "name": "python",
   "nbconvert_exporter": "python",
   "pygments_lexer": "ipython3",
   "version": "3.9.12"
  },
  "orig_nbformat": 4,
  "vscode": {
   "interpreter": {
    "hash": "4adb2b3a86768c0ab9c68d017220c97866613aeca6db1d74ccc533002803c558"
   }
  }
 },
 "nbformat": 4,
 "nbformat_minor": 2
}
