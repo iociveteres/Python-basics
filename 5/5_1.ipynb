{
 "cells": [
  {
   "cell_type": "code",
   "execution_count": 1,
   "metadata": {},
   "outputs": [
    {
     "name": "stdout",
     "output_type": "stream",
     "text": [
      "56\n"
     ]
    }
   ],
   "source": [
    "f = open('data.txt', 'a')\n",
    "for i in range(6):\n",
    "    f.write(\"line#\" + str(i) + '\\n')\n",
    "print(f.tell())\n",
    "f.close()"
   ]
  },
  {
   "cell_type": "code",
   "execution_count": 8,
   "metadata": {},
   "outputs": [
    {
     "name": "stdout",
     "output_type": "stream",
     "text": [
      "*\n",
      "**\n",
      "* *\n",
      "*  *\n",
      "*   *\n",
      "*    *\n",
      "*******\n"
     ]
    }
   ],
   "source": [
    "def rectangular_triangle(n):\n",
    "    for i in range(1, n + 1):\n",
    "        if i == 1:\n",
    "            print('*')\n",
    "        elif i == n:\n",
    "            print(n * '*')\n",
    "        else:\n",
    "            print('*' + (i - 2) * ' ' + '*')\n",
    "\n",
    "rectangular_triangle(7)"
   ]
  },
  {
   "cell_type": "code",
   "execution_count": 12,
   "metadata": {},
   "outputs": [
    {
     "name": "stdout",
     "output_type": "stream",
     "text": [
      "0.54770\n",
      "0.0\n"
     ]
    }
   ],
   "source": [
    "from math import sin\n",
    "\n",
    "a = (2 + sin(3))/(3 + sin(2)) + (1 + sin(5))/(sin(1) + 5) + (sin(7) + 4)/(sin(3) + 7)\n",
    "print(format(a, \".5f\"))"
   ]
  }
 ],
 "metadata": {
  "kernelspec": {
   "display_name": "Python 3.9.12 ('base')",
   "language": "python",
   "name": "python3"
  },
  "language_info": {
   "codemirror_mode": {
    "name": "ipython",
    "version": 3
   },
   "file_extension": ".py",
   "mimetype": "text/x-python",
   "name": "python",
   "nbconvert_exporter": "python",
   "pygments_lexer": "ipython3",
   "version": "3.9.12"
  },
  "orig_nbformat": 4,
  "vscode": {
   "interpreter": {
    "hash": "4adb2b3a86768c0ab9c68d017220c97866613aeca6db1d74ccc533002803c558"
   }
  }
 },
 "nbformat": 4,
 "nbformat_minor": 2
}
