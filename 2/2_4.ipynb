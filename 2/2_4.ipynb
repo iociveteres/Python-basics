{
 "cells": [
  {
   "cell_type": "code",
   "execution_count": 3,
   "metadata": {},
   "outputs": [
    {
     "name": "stdout",
     "output_type": "stream",
     "text": [
      "348\n"
     ]
    }
   ],
   "source": [
    "n = int(input())\n",
    "reverse = 0\n",
    "cur_digit_power = 1\n",
    "while (n != 0):\n",
    "    cur = n % 10\n",
    "    reverse = reverse * 10 + cur\n",
    "    cur_digit_power *= 10\n",
    "    n = n // 10\n",
    "print(reverse)"
   ]
  },
  {
   "cell_type": "code",
   "execution_count": 5,
   "metadata": {},
   "outputs": [
    {
     "name": "stdout",
     "output_type": "stream",
     "text": [
      "2\n"
     ]
    }
   ],
   "source": [
    "maa_in_a_row_count = -1\n",
    "maa_row_number = -1\n",
    "cur_in_a_row_count = -1\n",
    "cur_row_number = -1 \n",
    "con = True\n",
    "while con:\n",
    "    cur = int(input())\n",
    "    if cur != cur_row_number:\n",
    "        cur_row_number = cur\n",
    "        cur_in_a_row_count = 1\n",
    "    elif cur == cur_row_number:\n",
    "        cur_in_a_row_count += 1\n",
    "    if cur_in_a_row_count >= maa_in_a_row_count:\n",
    "        maa_in_a_row_count = cur_in_a_row_count\n",
    "        maa_row_number = cur_row_number\n",
    "    if cur == 0:\n",
    "        break\n",
    "    \n",
    "print(maa_in_a_row_count)"
   ]
  },
  {
   "cell_type": "code",
   "execution_count": 12,
   "metadata": {},
   "outputs": [
    {
     "name": "stdout",
     "output_type": "stream",
     "text": [
      "24880415114659319808\n"
     ]
    }
   ],
   "source": [
    "def gcd(a, b):\n",
    "    while b:\n",
    "        a, b = b, a % b\n",
    "    return int(a)\n",
    "\n",
    "def mcd(n,m):\n",
    "    return int((n / gcd(n, m)) * m)  \n",
    "\n",
    "s = list(map(int, input().split()))\n",
    "a, b = s[0], s[1]\n",
    "print(mcd(a, b))"
   ]
  },
  {
   "cell_type": "code",
   "execution_count": 26,
   "metadata": {},
   "outputs": [
    {
     "name": "stdout",
     "output_type": "stream",
     "text": [
      "84\n"
     ]
    }
   ],
   "source": [
    "s = list(map(int, input().split()))\n",
    "a, b = s[0], s[1]\n",
    "p = a * b\n",
    "while a != 0 and b != 0:\n",
    "    if a > b:\n",
    "        a = a % b\n",
    "    else:\n",
    "        b = b % a\n",
    "    gcd = a + b\n",
    "    \n",
    "lcm = p // gcd\n",
    "print(lcm)"
   ]
  }
 ],
 "metadata": {
  "kernelspec": {
   "display_name": "Python 3.9.12 ('base')",
   "language": "python",
   "name": "python3"
  },
  "language_info": {
   "codemirror_mode": {
    "name": "ipython",
    "version": 3
   },
   "file_extension": ".py",
   "mimetype": "text/x-python",
   "name": "python",
   "nbconvert_exporter": "python",
   "pygments_lexer": "ipython3",
   "version": "3.9.12"
  },
  "orig_nbformat": 4,
  "vscode": {
   "interpreter": {
    "hash": "4adb2b3a86768c0ab9c68d017220c97866613aeca6db1d74ccc533002803c558"
   }
  }
 },
 "nbformat": 4,
 "nbformat_minor": 2
}
