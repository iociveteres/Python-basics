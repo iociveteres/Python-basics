{
 "cells": [
  {
   "cell_type": "code",
   "execution_count": 2,
   "metadata": {},
   "outputs": [
    {
     "name": "stdout",
     "output_type": "stream",
     "text": [
      "7\n"
     ]
    }
   ],
   "source": [
    "max = -1\n",
    "s_max = -1\n",
    "con = True\n",
    "while con:\n",
    "    cur = int(input())\n",
    "    if cur == 0:\n",
    "        break\n",
    "    if cur > max:\n",
    "        s_max = max\n",
    "        max = cur\n",
    "    elif cur > s_max:\n",
    "        s_max = cur\n",
    "    \n",
    "print(s_max)"
   ]
  },
  {
   "cell_type": "code",
   "execution_count": 5,
   "metadata": {},
   "outputs": [
    {
     "name": "stdout",
     "output_type": "stream",
     "text": [
      "3\n"
     ]
    }
   ],
   "source": [
    "n = int(input())\n",
    "max_digit = -1\n",
    "max_count = 0\n",
    "while (n != 0):\n",
    "    cur = n % 10\n",
    "    if cur > max_digit:\n",
    "        max_digit = cur\n",
    "        max_count = 1\n",
    "    elif cur == max_digit:\n",
    "        max_count += 1\n",
    "    n = n // 10\n",
    "print(max_count)"
   ]
  },
  {
   "cell_type": "code",
   "execution_count": 20,
   "metadata": {},
   "outputs": [
    {
     "name": "stdout",
     "output_type": "stream",
     "text": [
      "23 29 "
     ]
    }
   ],
   "source": [
    "import math\n",
    "s = list(map(int, input().split()))\n",
    "a, b = s[0], s[1]\n",
    "s = []\n",
    "for n in range(a, b + 1):\n",
    "    prime = True\n",
    "    for i in range(2, math.ceil(math.sqrt(b))):\n",
    "        if (n % i == 0):\n",
    "            prime = False\n",
    "    if prime:\n",
    "       s.append(n)\n",
    "if s:\n",
    "    for i in s:\n",
    "        print(i, end = \" \")\n",
    "else:\n",
    "    print(0)"
   ]
  }
 ],
 "metadata": {
  "kernelspec": {
   "display_name": "Python 3.9.12 ('base')",
   "language": "python",
   "name": "python3"
  },
  "language_info": {
   "codemirror_mode": {
    "name": "ipython",
    "version": 3
   },
   "file_extension": ".py",
   "mimetype": "text/x-python",
   "name": "python",
   "nbconvert_exporter": "python",
   "pygments_lexer": "ipython3",
   "version": "3.9.12"
  },
  "orig_nbformat": 4,
  "vscode": {
   "interpreter": {
    "hash": "4adb2b3a86768c0ab9c68d017220c97866613aeca6db1d74ccc533002803c558"
   }
  }
 },
 "nbformat": 4,
 "nbformat_minor": 2
}
